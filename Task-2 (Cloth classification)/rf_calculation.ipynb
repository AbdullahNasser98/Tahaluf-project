{
  "nbformat": 4,
  "nbformat_minor": 0,
  "metadata": {
    "colab": {
      "provenance": [],
      "authorship_tag": "ABX9TyP8YtORFFLjcCCDSn/Q70c4",
      "include_colab_link": true
    },
    "kernelspec": {
      "name": "python3",
      "display_name": "Python 3"
    },
    "language_info": {
      "name": "python"
    }
  },
  "cells": [
    {
      "cell_type": "markdown",
      "metadata": {
        "id": "view-in-github",
        "colab_type": "text"
      },
      "source": [
        "<a href=\"https://colab.research.google.com/github/AbdullahNasser98/Tahaluf-project/blob/master/Task-2%20(Cloth%20classification)/rf_calculation.ipynb\" target=\"_parent\"><img src=\"https://colab.research.google.com/assets/colab-badge.svg\" alt=\"Open In Colab\"/></a>"
      ]
    },
    {
      "cell_type": "code",
      "execution_count": 19,
      "metadata": {
        "id": "fXbEejpFtloo"
      },
      "outputs": [],
      "source": [
        "from tensorflow import keras"
      ]
    },
    {
      "cell_type": "code",
      "source": [
        "## Clone repo to our work space\n",
        "! git clone https://github.com/google-research/receptive_field.git"
      ],
      "metadata": {
        "colab": {
          "base_uri": "https://localhost:8080/"
        },
        "id": "n8g6ngFvtsM6",
        "outputId": "e24e57e3-94b3-4887-ffbc-ebe677e71aba"
      },
      "execution_count": 1,
      "outputs": [
        {
          "output_type": "stream",
          "name": "stdout",
          "text": [
            "Cloning into 'receptive_field'...\n",
            "remote: Enumerating objects: 79, done.\u001b[K\n",
            "remote: Counting objects: 100% (7/7), done.\u001b[K\n",
            "remote: Compressing objects: 100% (3/3), done.\u001b[K\n",
            "remote: Total 79 (delta 4), reused 4 (delta 4), pack-reused 72\u001b[K\n",
            "Unpacking objects: 100% (79/79), done.\n"
          ]
        }
      ]
    },
    {
      "cell_type": "code",
      "source": [
        "# Mound drive to read the model\n",
        "from google.colab import drive\n",
        "drive.mount('/content/gdrive')"
      ],
      "metadata": {
        "colab": {
          "base_uri": "https://localhost:8080/"
        },
        "id": "84lhcewR6Abe",
        "outputId": "5db25ec7-dd0d-44a7-c6a3-42b3c8f544f1"
      },
      "execution_count": 16,
      "outputs": [
        {
          "output_type": "stream",
          "name": "stdout",
          "text": [
            "Mounted at /content/gdrive\n"
          ]
        }
      ]
    },
    {
      "cell_type": "code",
      "source": [
        "cnn_model = keras.models.load_model('/content/gdrive/MyDrive/yolox_weights/clothing_CNN_model.hdf5')"
      ],
      "metadata": {
        "id": "xwh3BmAs6RHJ"
      },
      "execution_count": 20,
      "outputs": []
    },
    {
      "cell_type": "markdown",
      "source": [
        "Key is the name of the layer and the value is the array consisting of kernel size, stride and padding respectively. This means that layer conv2 has 5×5 kernel, 1×1 striding and 2×2 padding.\n",
        "`'conv2': [5, 1, 2]`"
      ],
      "metadata": {
        "id": "Yhrmv710-iFp"
      }
    },
    {
      "cell_type": "code",
      "source": [
        "# define conv and dense layers parameters\n",
        "#kernel, stride, padding\n",
        "cnn = {\n",
        "    'conv1': [2, 1, 0],\n",
        "    'pool1': [2, 1, 0],\n",
        "    'conv2': [2, 1, 0],\n",
        "    'pool2': [2, 1, 0],\n",
        "    'conv3': [2, 1, 0],\n",
        "    'pool3': [2, 1, 0],\n",
        "    'conv4': [2, 1, 0],\n",
        "    'pool4': [2, 1, 0],\n",
        "    'fc6-conv': [128, 1, 0],\n",
        "    'fc7-conv': [10, 1, 0]\n",
        "}"
      ],
      "metadata": {
        "id": "Meytejjx-eIx"
      },
      "execution_count": 34,
      "outputs": []
    },
    {
      "cell_type": "code",
      "source": [
        "# Function to calculate RF\n",
        "import math;\n",
        "\n",
        "class ReceptiveFieldCalculator():\n",
        "    def calculate(self, architecture, input_image_size):\n",
        "        input_layer = ('input_layer', input_image_size, 1, 1, 0.5)\n",
        "        self._print_layer_info(input_layer)\n",
        "        \n",
        "        for key in architecture:\n",
        "            current_layer = self._calculate_layer_info(architecture[key], input_layer, key)\n",
        "            self._print_layer_info(current_layer)\n",
        "            input_layer = current_layer\n",
        "            \n",
        "    def _print_layer_info(self, layer):\n",
        "        print(f'------')\n",
        "        print(f'{layer[0]}: n = {layer[1]}; r = {layer[2]}; j = {layer[3]}; start = {layer[4]}')     \n",
        "        print(f'------')\n",
        "            \n",
        "    def _calculate_layer_info(self, current_layer, input_layer, layer_name):\n",
        "        n_in = input_layer[1]\n",
        "        j_in = input_layer[2]\n",
        "        r_in = input_layer[3]\n",
        "        start_in = input_layer[4]\n",
        "        \n",
        "        k = current_layer[0]\n",
        "        s = current_layer[1]\n",
        "        p = current_layer[2]\n",
        "\n",
        "        n_out = math.floor((n_in - k + 2*p)/s) + 1\n",
        "        padding = (n_out-1)*s - n_in + k \n",
        "        p_right = math.ceil(padding/2)\n",
        "        p_left = math.floor(padding/2)\n",
        "\n",
        "        j_out = j_in * s\n",
        "        r_out = r_in + (k - 1)*j_in\n",
        "        start_out = start_in + ((k-1)/2 - p_left)*j_in\n",
        "        return layer_name, n_out, j_out, r_out, start_out"
      ],
      "metadata": {
        "id": "gRvKz-pqutsg"
      },
      "execution_count": 35,
      "outputs": []
    },
    {
      "cell_type": "code",
      "source": [
        "calculator = ReceptiveFieldCalculator()\n",
        "calculator.calculate(cnn, 256)"
      ],
      "metadata": {
        "colab": {
          "base_uri": "https://localhost:8080/"
        },
        "id": "mLg1TqiwBTrY",
        "outputId": "6fdecb72-33fa-4245-a8cf-8c2fac7cf4e5"
      },
      "execution_count": 36,
      "outputs": [
        {
          "output_type": "stream",
          "name": "stdout",
          "text": [
            "------\n",
            "input_layer: n = 256; r = 1; j = 1; start = 0.5\n",
            "------\n",
            "------\n",
            "conv1: n = 255; r = 1; j = 2; start = 1.0\n",
            "------\n",
            "------\n",
            "pool1: n = 254; r = 1; j = 3; start = 1.5\n",
            "------\n",
            "------\n",
            "conv2: n = 253; r = 1; j = 4; start = 2.0\n",
            "------\n",
            "------\n",
            "pool2: n = 252; r = 1; j = 5; start = 2.5\n",
            "------\n",
            "------\n",
            "conv3: n = 251; r = 1; j = 6; start = 3.0\n",
            "------\n",
            "------\n",
            "pool3: n = 250; r = 1; j = 7; start = 3.5\n",
            "------\n",
            "------\n",
            "conv4: n = 249; r = 1; j = 8; start = 4.0\n",
            "------\n",
            "------\n",
            "pool4: n = 248; r = 1; j = 9; start = 4.5\n",
            "------\n",
            "------\n",
            "fc6-conv: n = 121; r = 1; j = 136; start = 68.0\n",
            "------\n",
            "------\n",
            "fc7-conv: n = 112; r = 1; j = 145; start = 72.5\n",
            "------\n"
          ]
        }
      ]
    },
    {
      "cell_type": "markdown",
      "source": [
        "This model's rf is 1 because we have the same stride=1, padding='valid', and kernel=2, constant across all our layers"
      ],
      "metadata": {
        "id": "c1kNiLiz_USi"
      }
    },
    {
      "cell_type": "code",
      "source": [],
      "metadata": {
        "id": "QG7soSitE6gg"
      },
      "execution_count": null,
      "outputs": []
    }
  ]
}