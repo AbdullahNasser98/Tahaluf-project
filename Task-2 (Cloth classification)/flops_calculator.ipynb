{
  "nbformat": 4,
  "nbformat_minor": 0,
  "metadata": {
    "colab": {
      "provenance": [],
      "authorship_tag": "ABX9TyOV733wjuBSTYVlAzeO1WCx",
      "include_colab_link": true
    },
    "kernelspec": {
      "name": "python3",
      "display_name": "Python 3"
    },
    "language_info": {
      "name": "python"
    }
  },
  "cells": [
    {
      "cell_type": "markdown",
      "metadata": {
        "id": "view-in-github",
        "colab_type": "text"
      },
      "source": [
        "<a href=\"https://colab.research.google.com/github/AbdullahNasser98/Tahaluf-project/blob/master/Task-2%20(Cloth%20classification)/flops_calculator.ipynb\" target=\"_parent\"><img src=\"https://colab.research.google.com/assets/colab-badge.svg\" alt=\"Open In Colab\"/></a>"
      ]
    },
    {
      "cell_type": "code",
      "source": [
        "!git clone https://github.com/ckyrkou/Keras_FLOP_Estimator.git"
      ],
      "metadata": {
        "colab": {
          "base_uri": "https://localhost:8080/"
        },
        "id": "MLRqZU1YBZ8X",
        "outputId": "f6ddfae2-f97c-4d7f-d476-8e9262fc316d"
      },
      "execution_count": 1,
      "outputs": [
        {
          "output_type": "stream",
          "name": "stdout",
          "text": [
            "fatal: destination path 'Keras_FLOP_Estimator' already exists and is not an empty directory.\n"
          ]
        }
      ]
    },
    {
      "cell_type": "code",
      "source": [
        "from tensorflow import keras"
      ],
      "metadata": {
        "id": "jpvI8I8w7B0S"
      },
      "execution_count": 2,
      "outputs": []
    },
    {
      "cell_type": "code",
      "source": [
        "# Mound drive to read the model\n",
        "from google.colab import drive\n",
        "drive.mount('/content/gdrive')"
      ],
      "metadata": {
        "colab": {
          "base_uri": "https://localhost:8080/"
        },
        "id": "84lhcewR6Abe",
        "outputId": "ce17b2c8-89fa-4bc7-934d-392faf55ae43"
      },
      "execution_count": 3,
      "outputs": [
        {
          "output_type": "stream",
          "name": "stdout",
          "text": [
            "Drive already mounted at /content/gdrive; to attempt to forcibly remount, call drive.mount(\"/content/gdrive\", force_remount=True).\n"
          ]
        }
      ]
    },
    {
      "cell_type": "code",
      "source": [
        "# Read CNN model\n",
        "cnn_model = keras.models.load_model('/content/gdrive/MyDrive/yolox_weights/clothing_CNN_model.hdf5')"
      ],
      "metadata": {
        "id": "xwh3BmAs6RHJ"
      },
      "execution_count": 4,
      "outputs": []
    },
    {
      "cell_type": "code",
      "source": [
        "%cd Keras_FLOP_Estimator/python_code "
      ],
      "metadata": {
        "colab": {
          "base_uri": "https://localhost:8080/"
        },
        "id": "6jdGVEsTCWs_",
        "outputId": "dedef22e-91c4-4e65-ddf4-7cf584c28c6d"
      },
      "execution_count": 5,
      "outputs": [
        {
          "output_type": "stream",
          "name": "stdout",
          "text": [
            "/content/Keras_FLOP_Estimator/python_code\n"
          ]
        }
      ]
    },
    {
      "cell_type": "code",
      "source": [
        "!ls"
      ],
      "metadata": {
        "colab": {
          "base_uri": "https://localhost:8080/"
        },
        "id": "wyL_X4to7My7",
        "outputId": "10092efd-a950-4d47-96d6-cb45990ac980"
      },
      "execution_count": 6,
      "outputs": [
        {
          "output_type": "stream",
          "name": "stdout",
          "text": [
            "net_flops.py  time_per_layer.py\n"
          ]
        }
      ]
    },
    {
      "cell_type": "code",
      "source": [
        "from net_flops import net_flops"
      ],
      "metadata": {
        "id": "3ojVvEBOCQZ_"
      },
      "execution_count": 7,
      "outputs": []
    },
    {
      "cell_type": "code",
      "source": [
        "# Calculate FLOPs for CNN model that was trained from scratch\n",
        "net_flops(cnn_model,table=True)"
      ],
      "metadata": {
        "colab": {
          "base_uri": "https://localhost:8080/"
        },
        "id": "KLk4KGXgCrMm",
        "outputId": "4c7aae28-5ff1-488d-e36b-caa8246e1b1d"
      },
      "execution_count": null,
      "outputs": [
        {
          "output_type": "stream",
          "name": "stdout",
          "text": [
            "               Layer Name |      Input Shape |     Output Shape |      Kernel Size |          Filters | Strides |  FLOPS\n",
            "--------------------------------------------------------------------------------------------------------------------------------------------------------------------------\n",
            "                   conv2d |    [256, 256, 3] |   [255, 255, 16] |           (2, 2) |               16 | (1, 1) | 25165824.0000\n",
            "      batch_normalization |   [255, 255, 16] |   [255, 255, 16] |           [0, 0] |           [0, 0] | [1, 1] | 0.0000\n",
            "            max_pooling2d |   [255, 255, 16] |     ['', '', ''] |           (2, 2) |           [0, 0] | (2, 2) | 1040400.0000\n",
            "                  dropout |     ['', '', ''] |     ['', '', ''] |           [0, 0] |           [0, 0] | [1, 1] | 0.0000\n",
            "                 conv2d_1 |   [127, 127, 16] |   [126, 126, 32] |           (2, 2) |               32 | (1, 1) | 66064384.0000\n",
            "    batch_normalization_1 |   [126, 126, 32] |   [126, 126, 32] |           [0, 0] |           [0, 0] | [1, 1] | 0.0000\n",
            "          max_pooling2d_1 |   [126, 126, 32] |     ['', '', ''] |           (2, 2) |           [0, 0] | (2, 2) | 508032.0000\n",
            "                 conv2d_2 |     [63, 63, 32] |     [62, 62, 64] |           (2, 2) |               64 | (1, 1) | 65028096.0000\n",
            "    batch_normalization_2 |     [62, 62, 64] |     [62, 62, 64] |           [0, 0] |           [0, 0] | [1, 1] | 0.0000\n",
            "          max_pooling2d_2 |     [62, 62, 64] |     ['', '', ''] |           (2, 2) |           [0, 0] | (2, 2) | 246016.0000\n",
            "                 conv2d_3 |     [31, 31, 64] |    [30, 30, 128] |           (2, 2) |              128 | (1, 1) | 62980096.0000\n",
            "    batch_normalization_3 |    [30, 30, 128] |    [30, 30, 128] |           [0, 0] |           [0, 0] | [1, 1] | 0.0000\n",
            "          max_pooling2d_3 |    [30, 30, 128] |     ['', '', ''] |           (2, 2) |           [0, 0] | (2, 2) | 115200.0000\n",
            "                  flatten |    [15, 15, 128] |            28800 |           [0, 0] |           [0, 0] | [1, 1] | 0.0000\n",
            "KerasTensor(type_spec=TensorSpec(shape=(None, 28800), dtype=tf.float32, name=None), name='flatten/Reshape:0', description=\"created by layer 'flatten'\")\n",
            "                    dense |            28800 |            [128] |           [0, 0] |           [0, 0] | [1, 1] | 7372800.0000\n",
            "KerasTensor(type_spec=TensorSpec(shape=(None, 128), dtype=tf.float32, name=None), name='dense/Relu:0', description=\"created by layer 'dense'\")\n",
            "                  dense_1 |              128 |             [10] |           [0, 0] |           [0, 0] | [1, 1] | 2560.0000\n",
            "\n",
            "Total FLOPS (x 10^6): 228.52340800\n",
            "\n",
            "\n",
            "Total MACCs: 113306880.00000000\n",
            "\n"
          ]
        }
      ]
    },
    {
      "cell_type": "code",
      "source": [
        "mobilenet_model = keras.models.load_model('/content/gdrive/MyDrive/yolox_weights/clothing_mobilenet_model.hdf5')"
      ],
      "metadata": {
        "id": "uQGrQTri7ZvC"
      },
      "execution_count": 8,
      "outputs": []
    },
    {
      "cell_type": "code",
      "source": [
        "# Calculate FLOPs for mobilenet model \n",
        "net_flops(mobilenet_model,table=True)"
      ],
      "metadata": {
        "colab": {
          "base_uri": "https://localhost:8080/"
        },
        "id": "GAD2R16k7grd",
        "outputId": "6736bfbf-2c65-4948-9405-93da79d89b76"
      },
      "execution_count": 10,
      "outputs": [
        {
          "output_type": "stream",
          "name": "stdout",
          "text": [
            "               Layer Name |      Input Shape |     Output Shape |      Kernel Size |          Filters | Strides |  FLOPS\n",
            "--------------------------------------------------------------------------------------------------------------------------------------------------------------------------\n",
            "                  input_1 |    [256, 256, 3] |    [256, 256, 3] |           [0, 0] |           [0, 0] | [1, 1] | 0.0000\n",
            "                    Conv1 |    [256, 256, 3] |   [128, 128, 32] |           (3, 3) |               32 | (2, 2) | 28311552.0000\n",
            "                 bn_Conv1 |   [128, 128, 32] |   [128, 128, 32] |           [0, 0] |           [0, 0] | [1, 1] | 0.0000\n",
            "               Conv1_relu |   [128, 128, 32] |   [128, 128, 32] |           [0, 0] |           [0, 0] | [1, 1] | 0.0000\n",
            "  expanded_conv_depthwise |   [128, 128, 32] |   [128, 128, 32] |           (3, 3) |               32 | (1, 1) | 9437184.0000\n",
            "expanded_conv_depthwise_BN |   [128, 128, 32] |   [128, 128, 32] |           [0, 0] |           [0, 0] | [1, 1] | 0.0000\n",
            "expanded_conv_depthwise_relu |   [128, 128, 32] |   [128, 128, 32] |           [0, 0] |           [0, 0] | [1, 1] | 0.0000\n",
            "    expanded_conv_project |   [128, 128, 32] |   [128, 128, 16] |           (1, 1) |               16 | (1, 1) | 16777216.0000\n",
            " expanded_conv_project_BN |   [128, 128, 16] |   [128, 128, 16] |           [0, 0] |           [0, 0] | [1, 1] | 0.0000\n",
            "           block_1_expand |   [128, 128, 16] |   [128, 128, 96] |           (1, 1) |               96 | (1, 1) | 50331648.0000\n",
            "        block_1_expand_BN |   [128, 128, 96] |   [128, 128, 96] |           [0, 0] |           [0, 0] | [1, 1] | 0.0000\n",
            "      block_1_expand_relu |   [128, 128, 96] |   [128, 128, 96] |           [0, 0] |           [0, 0] | [1, 1] | 0.0000\n",
            "              block_1_pad |     ['', '', ''] |     ['', '', ''] |           [0, 0] |           [0, 0] | [1, 1] | 0.0000\n",
            "        block_1_depthwise |   [129, 129, 96] |     [64, 64, 96] |           (3, 3) |               96 | (2, 2) | 7188912.0000\n",
            "     block_1_depthwise_BN |     [64, 64, 96] |     [64, 64, 96] |           [0, 0] |           [0, 0] | [1, 1] | 0.0000\n",
            "   block_1_depthwise_relu |     [64, 64, 96] |     [64, 64, 96] |           [0, 0] |           [0, 0] | [1, 1] | 0.0000\n",
            "          block_1_project |     [64, 64, 96] |     [64, 64, 24] |           (1, 1) |               24 | (1, 1) | 18874368.0000\n",
            "       block_1_project_BN |     [64, 64, 24] |     [64, 64, 24] |           [0, 0] |           [0, 0] | [1, 1] | 0.0000\n",
            "           block_2_expand |     [64, 64, 24] |    [64, 64, 144] |           (1, 1) |              144 | (1, 1) | 28311552.0000\n",
            "        block_2_expand_BN |    [64, 64, 144] |    [64, 64, 144] |           [0, 0] |           [0, 0] | [1, 1] | 0.0000\n",
            "      block_2_expand_relu |    [64, 64, 144] |    [64, 64, 144] |           [0, 0] |           [0, 0] | [1, 1] | 0.0000\n",
            "        block_2_depthwise |    [64, 64, 144] |    [64, 64, 144] |           (3, 3) |              144 | (1, 1) | 10616832.0000\n",
            "     block_2_depthwise_BN |    [64, 64, 144] |    [64, 64, 144] |           [0, 0] |           [0, 0] | [1, 1] | 0.0000\n",
            "   block_2_depthwise_relu |    [64, 64, 144] |    [64, 64, 144] |           [0, 0] |           [0, 0] | [1, 1] | 0.0000\n",
            "          block_2_project |    [64, 64, 144] |     [64, 64, 24] |           (1, 1) |               24 | (1, 1) | 28311552.0000\n",
            "       block_2_project_BN |     [64, 64, 24] |     [64, 64, 24] |           [0, 0] |           [0, 0] | [1, 1] | 0.0000\n",
            "              block_2_add |  [64, 64, 24, 2] |     [64, 64, 24] |           [0, 0] |           [0, 0] | [1, 1] | 98304.0000\n",
            "           block_3_expand |     [64, 64, 24] |    [64, 64, 144] |           (1, 1) |              144 | (1, 1) | 28311552.0000\n",
            "        block_3_expand_BN |    [64, 64, 144] |    [64, 64, 144] |           [0, 0] |           [0, 0] | [1, 1] | 0.0000\n",
            "      block_3_expand_relu |    [64, 64, 144] |    [64, 64, 144] |           [0, 0] |           [0, 0] | [1, 1] | 0.0000\n",
            "              block_3_pad |     ['', '', ''] |     ['', '', ''] |           [0, 0] |           [0, 0] | [1, 1] | 0.0000\n",
            "        block_3_depthwise |    [65, 65, 144] |    [32, 32, 144] |           (3, 3) |              144 | (2, 2) | 2737800.0000\n",
            "     block_3_depthwise_BN |    [32, 32, 144] |    [32, 32, 144] |           [0, 0] |           [0, 0] | [1, 1] | 0.0000\n",
            "   block_3_depthwise_relu |    [32, 32, 144] |    [32, 32, 144] |           [0, 0] |           [0, 0] | [1, 1] | 0.0000\n",
            "          block_3_project |    [32, 32, 144] |     [32, 32, 32] |           (1, 1) |               32 | (1, 1) | 9437184.0000\n",
            "       block_3_project_BN |     [32, 32, 32] |     [32, 32, 32] |           [0, 0] |           [0, 0] | [1, 1] | 0.0000\n",
            "           block_4_expand |     [32, 32, 32] |    [32, 32, 192] |           (1, 1) |              192 | (1, 1) | 12582912.0000\n",
            "        block_4_expand_BN |    [32, 32, 192] |    [32, 32, 192] |           [0, 0] |           [0, 0] | [1, 1] | 0.0000\n",
            "      block_4_expand_relu |    [32, 32, 192] |    [32, 32, 192] |           [0, 0] |           [0, 0] | [1, 1] | 0.0000\n",
            "        block_4_depthwise |    [32, 32, 192] |    [32, 32, 192] |           (3, 3) |              192 | (1, 1) | 3538944.0000\n",
            "     block_4_depthwise_BN |    [32, 32, 192] |    [32, 32, 192] |           [0, 0] |           [0, 0] | [1, 1] | 0.0000\n",
            "   block_4_depthwise_relu |    [32, 32, 192] |    [32, 32, 192] |           [0, 0] |           [0, 0] | [1, 1] | 0.0000\n",
            "          block_4_project |    [32, 32, 192] |     [32, 32, 32] |           (1, 1) |               32 | (1, 1) | 12582912.0000\n",
            "       block_4_project_BN |     [32, 32, 32] |     [32, 32, 32] |           [0, 0] |           [0, 0] | [1, 1] | 0.0000\n",
            "              block_4_add |  [32, 32, 32, 2] |     [32, 32, 32] |           [0, 0] |           [0, 0] | [1, 1] | 32768.0000\n",
            "           block_5_expand |     [32, 32, 32] |    [32, 32, 192] |           (1, 1) |              192 | (1, 1) | 12582912.0000\n",
            "        block_5_expand_BN |    [32, 32, 192] |    [32, 32, 192] |           [0, 0] |           [0, 0] | [1, 1] | 0.0000\n",
            "      block_5_expand_relu |    [32, 32, 192] |    [32, 32, 192] |           [0, 0] |           [0, 0] | [1, 1] | 0.0000\n",
            "        block_5_depthwise |    [32, 32, 192] |    [32, 32, 192] |           (3, 3) |              192 | (1, 1) | 3538944.0000\n",
            "     block_5_depthwise_BN |    [32, 32, 192] |    [32, 32, 192] |           [0, 0] |           [0, 0] | [1, 1] | 0.0000\n",
            "   block_5_depthwise_relu |    [32, 32, 192] |    [32, 32, 192] |           [0, 0] |           [0, 0] | [1, 1] | 0.0000\n",
            "          block_5_project |    [32, 32, 192] |     [32, 32, 32] |           (1, 1) |               32 | (1, 1) | 12582912.0000\n",
            "       block_5_project_BN |     [32, 32, 32] |     [32, 32, 32] |           [0, 0] |           [0, 0] | [1, 1] | 0.0000\n",
            "              block_5_add |  [32, 32, 32, 2] |     [32, 32, 32] |           [0, 0] |           [0, 0] | [1, 1] | 32768.0000\n",
            "           block_6_expand |     [32, 32, 32] |    [32, 32, 192] |           (1, 1) |              192 | (1, 1) | 12582912.0000\n",
            "        block_6_expand_BN |    [32, 32, 192] |    [32, 32, 192] |           [0, 0] |           [0, 0] | [1, 1] | 0.0000\n",
            "      block_6_expand_relu |    [32, 32, 192] |    [32, 32, 192] |           [0, 0] |           [0, 0] | [1, 1] | 0.0000\n",
            "              block_6_pad |     ['', '', ''] |     ['', '', ''] |           [0, 0] |           [0, 0] | [1, 1] | 0.0000\n",
            "        block_6_depthwise |    [33, 33, 192] |    [16, 16, 192] |           (3, 3) |              192 | (2, 2) | 940896.0000\n",
            "     block_6_depthwise_BN |    [16, 16, 192] |    [16, 16, 192] |           [0, 0] |           [0, 0] | [1, 1] | 0.0000\n",
            "   block_6_depthwise_relu |    [16, 16, 192] |    [16, 16, 192] |           [0, 0] |           [0, 0] | [1, 1] | 0.0000\n",
            "          block_6_project |    [16, 16, 192] |     [16, 16, 64] |           (1, 1) |               64 | (1, 1) | 6291456.0000\n",
            "       block_6_project_BN |     [16, 16, 64] |     [16, 16, 64] |           [0, 0] |           [0, 0] | [1, 1] | 0.0000\n",
            "           block_7_expand |     [16, 16, 64] |    [16, 16, 384] |           (1, 1) |              384 | (1, 1) | 12582912.0000\n",
            "        block_7_expand_BN |    [16, 16, 384] |    [16, 16, 384] |           [0, 0] |           [0, 0] | [1, 1] | 0.0000\n",
            "      block_7_expand_relu |    [16, 16, 384] |    [16, 16, 384] |           [0, 0] |           [0, 0] | [1, 1] | 0.0000\n",
            "        block_7_depthwise |    [16, 16, 384] |    [16, 16, 384] |           (3, 3) |              384 | (1, 1) | 1769472.0000\n",
            "     block_7_depthwise_BN |    [16, 16, 384] |    [16, 16, 384] |           [0, 0] |           [0, 0] | [1, 1] | 0.0000\n",
            "   block_7_depthwise_relu |    [16, 16, 384] |    [16, 16, 384] |           [0, 0] |           [0, 0] | [1, 1] | 0.0000\n",
            "          block_7_project |    [16, 16, 384] |     [16, 16, 64] |           (1, 1) |               64 | (1, 1) | 12582912.0000\n",
            "       block_7_project_BN |     [16, 16, 64] |     [16, 16, 64] |           [0, 0] |           [0, 0] | [1, 1] | 0.0000\n",
            "              block_7_add |  [16, 16, 64, 2] |     [16, 16, 64] |           [0, 0] |           [0, 0] | [1, 1] | 16384.0000\n",
            "           block_8_expand |     [16, 16, 64] |    [16, 16, 384] |           (1, 1) |              384 | (1, 1) | 12582912.0000\n",
            "        block_8_expand_BN |    [16, 16, 384] |    [16, 16, 384] |           [0, 0] |           [0, 0] | [1, 1] | 0.0000\n",
            "      block_8_expand_relu |    [16, 16, 384] |    [16, 16, 384] |           [0, 0] |           [0, 0] | [1, 1] | 0.0000\n",
            "        block_8_depthwise |    [16, 16, 384] |    [16, 16, 384] |           (3, 3) |              384 | (1, 1) | 1769472.0000\n",
            "     block_8_depthwise_BN |    [16, 16, 384] |    [16, 16, 384] |           [0, 0] |           [0, 0] | [1, 1] | 0.0000\n",
            "   block_8_depthwise_relu |    [16, 16, 384] |    [16, 16, 384] |           [0, 0] |           [0, 0] | [1, 1] | 0.0000\n",
            "          block_8_project |    [16, 16, 384] |     [16, 16, 64] |           (1, 1) |               64 | (1, 1) | 12582912.0000\n",
            "       block_8_project_BN |     [16, 16, 64] |     [16, 16, 64] |           [0, 0] |           [0, 0] | [1, 1] | 0.0000\n",
            "              block_8_add |  [16, 16, 64, 2] |     [16, 16, 64] |           [0, 0] |           [0, 0] | [1, 1] | 16384.0000\n",
            "           block_9_expand |     [16, 16, 64] |    [16, 16, 384] |           (1, 1) |              384 | (1, 1) | 12582912.0000\n",
            "        block_9_expand_BN |    [16, 16, 384] |    [16, 16, 384] |           [0, 0] |           [0, 0] | [1, 1] | 0.0000\n",
            "      block_9_expand_relu |    [16, 16, 384] |    [16, 16, 384] |           [0, 0] |           [0, 0] | [1, 1] | 0.0000\n",
            "        block_9_depthwise |    [16, 16, 384] |    [16, 16, 384] |           (3, 3) |              384 | (1, 1) | 1769472.0000\n",
            "     block_9_depthwise_BN |    [16, 16, 384] |    [16, 16, 384] |           [0, 0] |           [0, 0] | [1, 1] | 0.0000\n",
            "   block_9_depthwise_relu |    [16, 16, 384] |    [16, 16, 384] |           [0, 0] |           [0, 0] | [1, 1] | 0.0000\n",
            "          block_9_project |    [16, 16, 384] |     [16, 16, 64] |           (1, 1) |               64 | (1, 1) | 12582912.0000\n",
            "       block_9_project_BN |     [16, 16, 64] |     [16, 16, 64] |           [0, 0] |           [0, 0] | [1, 1] | 0.0000\n",
            "              block_9_add |  [16, 16, 64, 2] |     [16, 16, 64] |           [0, 0] |           [0, 0] | [1, 1] | 16384.0000\n",
            "          block_10_expand |     [16, 16, 64] |    [16, 16, 384] |           (1, 1) |              384 | (1, 1) | 12582912.0000\n",
            "       block_10_expand_BN |    [16, 16, 384] |    [16, 16, 384] |           [0, 0] |           [0, 0] | [1, 1] | 0.0000\n",
            "     block_10_expand_relu |    [16, 16, 384] |    [16, 16, 384] |           [0, 0] |           [0, 0] | [1, 1] | 0.0000\n",
            "       block_10_depthwise |    [16, 16, 384] |    [16, 16, 384] |           (3, 3) |              384 | (1, 1) | 1769472.0000\n",
            "    block_10_depthwise_BN |    [16, 16, 384] |    [16, 16, 384] |           [0, 0] |           [0, 0] | [1, 1] | 0.0000\n",
            "  block_10_depthwise_relu |    [16, 16, 384] |    [16, 16, 384] |           [0, 0] |           [0, 0] | [1, 1] | 0.0000\n",
            "         block_10_project |    [16, 16, 384] |     [16, 16, 96] |           (1, 1) |               96 | (1, 1) | 18874368.0000\n",
            "      block_10_project_BN |     [16, 16, 96] |     [16, 16, 96] |           [0, 0] |           [0, 0] | [1, 1] | 0.0000\n",
            "          block_11_expand |     [16, 16, 96] |    [16, 16, 576] |           (1, 1) |              576 | (1, 1) | 28311552.0000\n",
            "       block_11_expand_BN |    [16, 16, 576] |    [16, 16, 576] |           [0, 0] |           [0, 0] | [1, 1] | 0.0000\n",
            "     block_11_expand_relu |    [16, 16, 576] |    [16, 16, 576] |           [0, 0] |           [0, 0] | [1, 1] | 0.0000\n",
            "       block_11_depthwise |    [16, 16, 576] |    [16, 16, 576] |           (3, 3) |              576 | (1, 1) | 2654208.0000\n",
            "    block_11_depthwise_BN |    [16, 16, 576] |    [16, 16, 576] |           [0, 0] |           [0, 0] | [1, 1] | 0.0000\n",
            "  block_11_depthwise_relu |    [16, 16, 576] |    [16, 16, 576] |           [0, 0] |           [0, 0] | [1, 1] | 0.0000\n",
            "         block_11_project |    [16, 16, 576] |     [16, 16, 96] |           (1, 1) |               96 | (1, 1) | 28311552.0000\n",
            "      block_11_project_BN |     [16, 16, 96] |     [16, 16, 96] |           [0, 0] |           [0, 0] | [1, 1] | 0.0000\n",
            "             block_11_add |  [16, 16, 96, 2] |     [16, 16, 96] |           [0, 0] |           [0, 0] | [1, 1] | 24576.0000\n",
            "          block_12_expand |     [16, 16, 96] |    [16, 16, 576] |           (1, 1) |              576 | (1, 1) | 28311552.0000\n",
            "       block_12_expand_BN |    [16, 16, 576] |    [16, 16, 576] |           [0, 0] |           [0, 0] | [1, 1] | 0.0000\n",
            "     block_12_expand_relu |    [16, 16, 576] |    [16, 16, 576] |           [0, 0] |           [0, 0] | [1, 1] | 0.0000\n",
            "       block_12_depthwise |    [16, 16, 576] |    [16, 16, 576] |           (3, 3) |              576 | (1, 1) | 2654208.0000\n",
            "    block_12_depthwise_BN |    [16, 16, 576] |    [16, 16, 576] |           [0, 0] |           [0, 0] | [1, 1] | 0.0000\n",
            "  block_12_depthwise_relu |    [16, 16, 576] |    [16, 16, 576] |           [0, 0] |           [0, 0] | [1, 1] | 0.0000\n",
            "         block_12_project |    [16, 16, 576] |     [16, 16, 96] |           (1, 1) |               96 | (1, 1) | 28311552.0000\n",
            "      block_12_project_BN |     [16, 16, 96] |     [16, 16, 96] |           [0, 0] |           [0, 0] | [1, 1] | 0.0000\n",
            "             block_12_add |  [16, 16, 96, 2] |     [16, 16, 96] |           [0, 0] |           [0, 0] | [1, 1] | 24576.0000\n",
            "          block_13_expand |     [16, 16, 96] |    [16, 16, 576] |           (1, 1) |              576 | (1, 1) | 28311552.0000\n",
            "       block_13_expand_BN |    [16, 16, 576] |    [16, 16, 576] |           [0, 0] |           [0, 0] | [1, 1] | 0.0000\n",
            "     block_13_expand_relu |    [16, 16, 576] |    [16, 16, 576] |           [0, 0] |           [0, 0] | [1, 1] | 0.0000\n",
            "             block_13_pad |     ['', '', ''] |     ['', '', ''] |           [0, 0] |           [0, 0] | [1, 1] | 0.0000\n",
            "       block_13_depthwise |    [17, 17, 576] |      [8, 8, 576] |           (3, 3) |              576 | (2, 2) | 749088.0000\n",
            "    block_13_depthwise_BN |      [8, 8, 576] |      [8, 8, 576] |           [0, 0] |           [0, 0] | [1, 1] | 0.0000\n",
            "  block_13_depthwise_relu |      [8, 8, 576] |      [8, 8, 576] |           [0, 0] |           [0, 0] | [1, 1] | 0.0000\n",
            "         block_13_project |      [8, 8, 576] |      [8, 8, 160] |           (1, 1) |              160 | (1, 1) | 11796480.0000\n",
            "      block_13_project_BN |      [8, 8, 160] |      [8, 8, 160] |           [0, 0] |           [0, 0] | [1, 1] | 0.0000\n",
            "          block_14_expand |      [8, 8, 160] |      [8, 8, 960] |           (1, 1) |              960 | (1, 1) | 19660800.0000\n",
            "       block_14_expand_BN |      [8, 8, 960] |      [8, 8, 960] |           [0, 0] |           [0, 0] | [1, 1] | 0.0000\n",
            "     block_14_expand_relu |      [8, 8, 960] |      [8, 8, 960] |           [0, 0] |           [0, 0] | [1, 1] | 0.0000\n",
            "       block_14_depthwise |      [8, 8, 960] |      [8, 8, 960] |           (3, 3) |              960 | (1, 1) | 1105920.0000\n",
            "    block_14_depthwise_BN |      [8, 8, 960] |      [8, 8, 960] |           [0, 0] |           [0, 0] | [1, 1] | 0.0000\n",
            "  block_14_depthwise_relu |      [8, 8, 960] |      [8, 8, 960] |           [0, 0] |           [0, 0] | [1, 1] | 0.0000\n",
            "         block_14_project |      [8, 8, 960] |      [8, 8, 160] |           (1, 1) |              160 | (1, 1) | 19660800.0000\n",
            "      block_14_project_BN |      [8, 8, 160] |      [8, 8, 160] |           [0, 0] |           [0, 0] | [1, 1] | 0.0000\n",
            "             block_14_add |   [8, 8, 160, 2] |      [8, 8, 160] |           [0, 0] |           [0, 0] | [1, 1] | 10240.0000\n",
            "          block_15_expand |      [8, 8, 160] |      [8, 8, 960] |           (1, 1) |              960 | (1, 1) | 19660800.0000\n",
            "       block_15_expand_BN |      [8, 8, 960] |      [8, 8, 960] |           [0, 0] |           [0, 0] | [1, 1] | 0.0000\n",
            "     block_15_expand_relu |      [8, 8, 960] |      [8, 8, 960] |           [0, 0] |           [0, 0] | [1, 1] | 0.0000\n",
            "       block_15_depthwise |      [8, 8, 960] |      [8, 8, 960] |           (3, 3) |              960 | (1, 1) | 1105920.0000\n",
            "    block_15_depthwise_BN |      [8, 8, 960] |      [8, 8, 960] |           [0, 0] |           [0, 0] | [1, 1] | 0.0000\n",
            "  block_15_depthwise_relu |      [8, 8, 960] |      [8, 8, 960] |           [0, 0] |           [0, 0] | [1, 1] | 0.0000\n",
            "         block_15_project |      [8, 8, 960] |      [8, 8, 160] |           (1, 1) |              160 | (1, 1) | 19660800.0000\n",
            "      block_15_project_BN |      [8, 8, 160] |      [8, 8, 160] |           [0, 0] |           [0, 0] | [1, 1] | 0.0000\n",
            "             block_15_add |   [8, 8, 160, 2] |      [8, 8, 160] |           [0, 0] |           [0, 0] | [1, 1] | 10240.0000\n",
            "          block_16_expand |      [8, 8, 160] |      [8, 8, 960] |           (1, 1) |              960 | (1, 1) | 19660800.0000\n",
            "       block_16_expand_BN |      [8, 8, 960] |      [8, 8, 960] |           [0, 0] |           [0, 0] | [1, 1] | 0.0000\n",
            "     block_16_expand_relu |      [8, 8, 960] |      [8, 8, 960] |           [0, 0] |           [0, 0] | [1, 1] | 0.0000\n",
            "       block_16_depthwise |      [8, 8, 960] |      [8, 8, 960] |           (3, 3) |              960 | (1, 1) | 1105920.0000\n",
            "    block_16_depthwise_BN |      [8, 8, 960] |      [8, 8, 960] |           [0, 0] |           [0, 0] | [1, 1] | 0.0000\n",
            "  block_16_depthwise_relu |      [8, 8, 960] |      [8, 8, 960] |           [0, 0] |           [0, 0] | [1, 1] | 0.0000\n",
            "         block_16_project |      [8, 8, 960] |      [8, 8, 320] |           (1, 1) |              320 | (1, 1) | 39321600.0000\n",
            "      block_16_project_BN |      [8, 8, 320] |      [8, 8, 320] |           [0, 0] |           [0, 0] | [1, 1] | 0.0000\n",
            "                   Conv_1 |      [8, 8, 320] |     [8, 8, 1280] |           (1, 1) |             1280 | (1, 1) | 52428800.0000\n",
            "                Conv_1_bn |     [8, 8, 1280] |     [8, 8, 1280] |           [0, 0] |           [0, 0] | [1, 1] | 0.0000\n",
            "                 out_relu |     [8, 8, 1280] |     [8, 8, 1280] |           [0, 0] |           [0, 0] | [1, 1] | 0.0000\n",
            "                flatten_1 |     [8, 8, 1280] |            81920 |           [0, 0] |           [0, 0] | [1, 1] | 0.0000\n",
            "KerasTensor(type_spec=TensorSpec(shape=(None, 81920), dtype=tf.float32, name=None), name='flatten_1/Reshape:0', description=\"created by layer 'flatten_1'\")\n",
            "                  dense_2 |            81920 |             [10] |           [0, 0] |           [0, 0] | [1, 1] | 1638400.0000\n",
            "\n",
            "Total FLOPS (x 10^6): 784.60972000\n",
            "\n",
            "\n",
            "Total MACCs: 392163548.00000000\n",
            "\n"
          ]
        }
      ]
    },
    {
      "cell_type": "code",
      "source": [],
      "metadata": {
        "id": "61cc2OIn7iys"
      },
      "execution_count": null,
      "outputs": []
    }
  ]
}